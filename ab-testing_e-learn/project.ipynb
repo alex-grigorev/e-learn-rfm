{
 "cells": [
  {
   "cell_type": "markdown",
   "metadata": {},
   "source": [
    "Анализ результатов A/B-тестирования e-learning продукта и расчет его метрик"
   ]
  },
{
 "cells": [
  {
   "cell_type": "markdown",
   "metadata": {},
   "source": [
    "# 1. А/В-тестирование"
   ]
  },
  {
   "cell_type": "markdown",
   "metadata": {},
   "source": [
    "## Условие\n",
    "\n",
    "Одной из основных задач аналитика в нашей команде является корректное проведение экспериментов. Для этого мы применяем метод A/B–тестирования. В ходе тестирования одной гипотезы целевой группе была предложена новая механика оплаты услуг на сайте, у контрольной группы оставалась базовая механика. В качестве задания вам *необходимо проанализировать итоги эксперимента и сделать вывод, стоит ли запускать новую механику оплаты на всех пользователей.*\n",
    "\n",
    "В качестве входных данных вы имеете 4 csv-файла:\n",
    "\n",
    "groups.csv – файл с информацией о принадлежности пользователя к контрольной или экспериментальной группе (А – контроль, B – целевая группа)  \n",
    "groups_add.csv – дополнительный файл с пользователями, который вам прислали спустя 2 дня после передачи данных  \n",
    "active_studs.csv – файл с информацией о пользователях, которые зашли на платформу в дни проведения эксперимента  \n",
    "checks.csv – файл с информацией об оплатах пользователей в дни проведения эксперимента"
   ]
  },
  {
   "cell_type": "markdown",
   "metadata": {},
   "source": [
    "## Решение"
   ]
  },
  {
   "cell_type": "code",
   "execution_count": 1,
   "metadata": {},
   "outputs": [],
   "source": [
    "import pandas as pd\n",
    "import numpy as np\n",
    "import seaborn as sns\n",
    "import scipy.stats as ss\n",
    "import matplotlib.pyplot as plt\n",
    "import pingouin as pg\n",
    "import pandahouse as ph\n",
    "import requests \n",
    "from urllib.parse import urlencode "
   ]
  },
  {
   "cell_type": "code",
   "execution_count": 3,
   "metadata": {},
   "outputs": [],
   "source": [
    "def read_yadisk_csv(public_key,delimeter):\n",
    "    \"\"\"\n",
    "    Функция для чтения csv файла с Яндекс диска. Больше информации:\n",
    "    https://yandex.cloud/ru/docs/datasphere/operations/data/connect-to-ya-disk\n",
    "    public_key - ссылка на csv-файл для скачивания\n",
    "    \"\"\"\n",
    "    base_url = 'https://cloud-api.yandex.net/v1/disk/public/resources/download?'\n",
    "    # получаем url \n",
    "    final_url = base_url + urlencode(dict(public_key=public_key)) \n",
    "    response = requests.get(final_url) \n",
    "    download_url = response.json()['href']\n",
    "    return pd.read_csv(download_url, sep=delimeter)"
   ]
  },
  {
   "cell_type": "code",
   "execution_count": 7,
   "metadata": {},
   "outputs": [],
   "source": [
    "groups = read_yadisk_csv('https://disk.yandex.ru/d/UhyYx41rTt3clQ', ';')\n",
    "groups_add = read_yadisk_csv('https://disk.yandex.ru/d/5Kxrz02m3IBUwQ', ',')\n",
    "active_studs = read_yadisk_csv('https://disk.yandex.ru/d/Tbs44Bm6H_FwFQ', ',')\n",
    "checks = read_yadisk_csv('https://disk.yandex.ru/d/pH1q-VqcxXjsVA', ';')"
   ]
  },
  {
   "cell_type": "markdown",
   "metadata": {},
   "source": [
    "## Предобработка и исследование данных"
   ]
  },
  {
   "cell_type": "code",
   "execution_count": 10,
   "metadata": {},
   "outputs": [
    {
     "data": {
      "text/plain": [
       "0"
      ]
     },
     "execution_count": 10,
     "metadata": {},
     "output_type": "execute_result"
    }
   ],
   "source": [
    "# проверка: пользователи в 1м и 2м датасетах не повторяются\n",
    "groups.id.isin(groups_add.id).sum()"
   ]
  },
  {
   "cell_type": "code",
   "execution_count": 12,
   "metadata": {
    "scrolled": true
   },
   "outputs": [
    {
     "name": "stdout",
     "output_type": "stream",
     "text": [
      "1\n",
      "1\n"
     ]
    }
   ],
   "source": [
    "# проверка: в данных об активности и покупках студентов каждый студент встречается максимум один раз\n",
    "print(active_studs.student_id.value_counts().max())\n",
    "print(checks.student_id.value_counts().max())"
   ]
  },
  {
   "cell_type": "code",
   "execution_count": 14,
   "metadata": {},
   "outputs": [
    {
     "data": {
      "text/html": [
       "<div>\n",
       "<style scoped>\n",
       "    .dataframe tbody tr th:only-of-type {\n",
       "        vertical-align: middle;\n",
       "    }\n",
       "\n",
       "    .dataframe tbody tr th {\n",
       "        vertical-align: top;\n",
       "    }\n",
       "\n",
       "    .dataframe thead th {\n",
       "        text-align: right;\n",
       "    }\n",
       "</style>\n",
       "<table border=\"1\" class=\"dataframe\">\n",
       "  <thead>\n",
       "    <tr style=\"text-align: right;\">\n",
       "      <th></th>\n",
       "      <th>student_id</th>\n",
       "      <th>grp</th>\n",
       "    </tr>\n",
       "  </thead>\n",
       "  <tbody>\n",
       "    <tr>\n",
       "      <th>0</th>\n",
       "      <td>1489</td>\n",
       "      <td>B</td>\n",
       "    </tr>\n",
       "    <tr>\n",
       "      <th>1</th>\n",
       "      <td>1627</td>\n",
       "      <td>A</td>\n",
       "    </tr>\n",
       "    <tr>\n",
       "      <th>2</th>\n",
       "      <td>1768</td>\n",
       "      <td>B</td>\n",
       "    </tr>\n",
       "    <tr>\n",
       "      <th>3</th>\n",
       "      <td>1783</td>\n",
       "      <td>B</td>\n",
       "    </tr>\n",
       "    <tr>\n",
       "      <th>4</th>\n",
       "      <td>1794</td>\n",
       "      <td>A</td>\n",
       "    </tr>\n",
       "    <tr>\n",
       "      <th>...</th>\n",
       "      <td>...</td>\n",
       "      <td>...</td>\n",
       "    </tr>\n",
       "    <tr>\n",
       "      <th>74571</th>\n",
       "      <td>200247820</td>\n",
       "      <td>B</td>\n",
       "    </tr>\n",
       "    <tr>\n",
       "      <th>74572</th>\n",
       "      <td>201032527</td>\n",
       "      <td>B</td>\n",
       "    </tr>\n",
       "    <tr>\n",
       "      <th>74573</th>\n",
       "      <td>201067612</td>\n",
       "      <td>B</td>\n",
       "    </tr>\n",
       "    <tr>\n",
       "      <th>74574</th>\n",
       "      <td>201067653</td>\n",
       "      <td>B</td>\n",
       "    </tr>\n",
       "    <tr>\n",
       "      <th>74575</th>\n",
       "      <td>201067659</td>\n",
       "      <td>B</td>\n",
       "    </tr>\n",
       "  </tbody>\n",
       "</table>\n",
       "<p>74576 rows × 2 columns</p>\n",
       "</div>"
      ],
      "text/plain": [
       "       student_id grp\n",
       "0            1489   B\n",
       "1            1627   A\n",
       "2            1768   B\n",
       "3            1783   B\n",
       "4            1794   A\n",
       "...           ...  ..\n",
       "74571   200247820   B\n",
       "74572   201032527   B\n",
       "74573   201067612   B\n",
       "74574   201067653   B\n",
       "74575   201067659   B\n",
       "\n",
       "[74576 rows x 2 columns]"
      ]
     },
     "execution_count": 14,
     "metadata": {},
     "output_type": "execute_result"
    }
   ],
   "source": [
    "# объединим датафреймы с группами, приведем к нужному типу столбец с группой, переименуем столбец с id для удобства\n",
    "groups_upd = pd.concat([groups, groups_add], ignore_index=True)\n",
    "groups_upd['grp'] = groups_upd.grp.astype(str)\n",
    "groups_upd.rename(columns={'id':'student_id'}, inplace=True)\n",
    "groups_upd"
   ]
  },
  {
   "cell_type": "code",
   "execution_count": 16,
   "metadata": {},
   "outputs": [
    {
     "data": {
      "text/plain": [
       "True"
      ]
     },
     "execution_count": 16,
     "metadata": {},
     "output_type": "execute_result"
    }
   ],
   "source": [
    "# проверка: все студенты с оплатами есть в общей таблице\n",
    "checks.student_id.isin(groups_upd.student_id).sum() == checks.shape[0]"
   ]
  },
  {
   "cell_type": "code",
   "execution_count": 18,
   "metadata": {
    "scrolled": true
   },
   "outputs": [
    {
     "data": {
      "text/plain": [
       "True"
      ]
     },
     "execution_count": 18,
     "metadata": {},
     "output_type": "execute_result"
    }
   ],
   "source": [
    "# проверка: все активные студенты есть в общей таблице\n",
    "active_studs.student_id.isin(groups_upd.student_id).sum() == active_studs.shape [0]"
   ]
  },
  {
   "cell_type": "code",
   "execution_count": 10,
   "metadata": {},
   "outputs": [],
   "source": [
    "# для удобства перед мерджем со всеми пользователями создадим метку активного пользователя \n",
    "active_studs['active'] = 1"
   ]
  },
  {
   "cell_type": "code",
   "execution_count": 11,
   "metadata": {},
   "outputs": [],
   "source": [
    "# мердж активных, платящих и групп\n",
    "users_logs = groups_upd.merge(active_studs, on='student_id', how='left')\n",
    "users_logs = users_logs.merge(checks, on='student_id', how='left').fillna(0)"
   ]
  },
  {
   "cell_type": "code",
   "execution_count": 12,
   "metadata": {},
   "outputs": [],
   "source": [
    "# отметка конверсии в оплату\n",
    "users_logs['conv_to_pay'] = np.where(users_logs.rev != 0, 1, 0)"
   ]
  },
  {
   "cell_type": "code",
   "execution_count": 17,
   "metadata": {},
   "outputs": [
    {
     "data": {
      "text/plain": [
       "149"
      ]
     },
     "execution_count": 17,
     "metadata": {},
     "output_type": "execute_result"
    }
   ],
   "source": [
    "# проверка на ошибки: сколько студентов провели оплату, но не отметились как зашедшие на сайт\n",
    "users_logs.loc[(users_logs.active == 0)&(users_logs.conv_to_pay == 1)].shape[0]"
   ]
  },
  {
   "cell_type": "markdown",
   "metadata": {},
   "source": [
    "Оставим в логах только активных пользователей, т.к. данные о пользователях, которые оплатили услуги, но якобы не зашли на сайт, мы считаем логически ошибочными и не подходящими для анализа "
   ]
  },
  {
   "cell_type": "code",
   "execution_count": 18,
   "metadata": {},
   "outputs": [],
   "source": [
    "users_logs = users_logs.loc[users_logs.active == 1]"
   ]
  },
  {
   "cell_type": "code",
   "execution_count": 19,
   "metadata": {},
   "outputs": [
    {
     "data": {
      "text/plain": [
       "grp\n",
       "A    1538\n",
       "B    6803\n",
       "Name: student_id, dtype: int64"
      ]
     },
     "execution_count": 19,
     "metadata": {},
     "output_type": "execute_result"
    }
   ],
   "source": [
    "# сколько всего наблюдений в группах\n",
    "users_logs.groupby(['grp']).student_id.nunique()"
   ]
  },
  {
   "cell_type": "code",
   "execution_count": 20,
   "metadata": {
    "scrolled": true
   },
   "outputs": [
    {
     "data": {
      "text/plain": [
       "grp\n",
       "A    1538\n",
       "B    6803\n",
       "dtype: int64"
      ]
     },
     "execution_count": 20,
     "metadata": {},
     "output_type": "execute_result"
    }
   ],
   "source": [
    "# сколько пользователей в группах => на каждого пользователя одно наблюдение\n",
    "users_logs.groupby(['grp']).size()"
   ]
  },
  {
   "cell_type": "code",
   "execution_count": 21,
   "metadata": {},
   "outputs": [],
   "source": [
    "# для удобства будущих расчетов создадим отдельные датасеты для групп\n",
    "users_A = users_logs[users_logs.grp == 'A']\n",
    "users_B = users_logs[users_logs.grp == 'B']"
   ]
  },
  {
   "cell_type": "code",
   "execution_count": 22,
   "metadata": {},
   "outputs": [
    {
     "data": {
      "text/plain": [
       "set()"
      ]
     },
     "execution_count": 22,
     "metadata": {},
     "output_type": "execute_result"
    }
   ],
   "source": [
    "# проверка сплитования: пользователи в группах не пересекаются\n",
    "gr_A = set(users_A.student_id)\n",
    "gr_B = set(users_B.student_id)\n",
    "gr_A.intersection(gr_B)"
   ]
  },
  {
   "cell_type": "markdown",
   "metadata": {},
   "source": [
    "## Гипотеза исследования"
   ]
  },
  {
   "cell_type": "markdown",
   "metadata": {},
   "source": [
    "Для того чтобы выбрать релевантные метрики для анализа, а потом и оценивать иготи АВ-теста, необходимо знать **общую гипотезу, проверяемую в ходе АВ-тестирования**. В условии задачи она по какой-то причине явно не указана, поэтому можно предположить, что тестироваться могла одна из следующих гипотез. \n",
    "1. Внедрение нового механизма оплаты поможет повысить конверсию в платящих пользователей на 10%.\n",
    "2. Внедрение нового механизма оплаты поможет повысить средний доход от платящего пользователя на 200 д.е."
   ]
  },
  {
   "cell_type": "markdown",
   "metadata": {},
   "source": [
    "## Проверка метрик"
   ]
  },
  {
   "cell_type": "markdown",
   "metadata": {},
   "source": [
    "В рамках данного АВ-теста и с учетом его предполагаемой гипотезы, предлагаем исследовать следующие **метрики**:\n",
    "- конверсия в оплату среди всех пользователей (предполагаемая гипотеза №1),\n",
    "- средняя сумма оплаты у оплативших пользователей, ARPPU (предполагаемая гипотеза №2).\n",
    "\n",
    "Во-первых, изменение в **конверсии в оплату** может отразить то, стали ли пользователи чаще оплачивать услуги на сайте с новой механикой оплаты.  \n",
    "\n",
    "Во-вторых, среди пользователей, уже сконвертировавшихся в оплату, также полезно исследовать сколько они стали платить - **средний размер оплаты**: изменился ли он и в какую сторону при новой механике оплаты.\n",
    "\n",
    "Также на данном этапе отметим, что при наличии большего объема данных, можно было бы детальнее исследовать влияние новой механики оплаты - например, на частоту покупок (при наличии данных в динамике) или поведение разных групп пользователей: на новых и существующих пользователей, на тех, кто прошел пробную версию продукта (если она есть), и т.д.  \n",
    "Однако на основе имеющихся данных (одно наблюдение на пользователя, немного вводных данных) не представляется возможным сделать более глубокий анализ их поведения в связи с нововведением."
   ]
  },
  {
   "cell_type": "markdown",
   "metadata": {},
   "source": [
    "### 1. Конверсия в оплату (CR)"
   ]
  },
  {
   "cell_type": "markdown",
   "metadata": {},
   "source": [
    "Посмотрим, сколько наблюдений в группах относительно конверсии в оплату."
   ]
  },
  {
   "cell_type": "code",
   "execution_count": 23,
   "metadata": {},
   "outputs": [
    {
     "data": {
      "text/html": [
       "<div>\n",
       "<style scoped>\n",
       "    .dataframe tbody tr th:only-of-type {\n",
       "        vertical-align: middle;\n",
       "    }\n",
       "\n",
       "    .dataframe tbody tr th {\n",
       "        vertical-align: top;\n",
       "    }\n",
       "\n",
       "    .dataframe thead th {\n",
       "        text-align: right;\n",
       "    }\n",
       "</style>\n",
       "<table border=\"1\" class=\"dataframe\">\n",
       "  <thead>\n",
       "    <tr style=\"text-align: right;\">\n",
       "      <th>conv_to_pay</th>\n",
       "      <th>0</th>\n",
       "      <th>1</th>\n",
       "    </tr>\n",
       "    <tr>\n",
       "      <th>grp</th>\n",
       "      <th></th>\n",
       "      <th></th>\n",
       "    </tr>\n",
       "  </thead>\n",
       "  <tbody>\n",
       "    <tr>\n",
       "      <th>A</th>\n",
       "      <td>1460</td>\n",
       "      <td>78</td>\n",
       "    </tr>\n",
       "    <tr>\n",
       "      <th>B</th>\n",
       "      <td>6489</td>\n",
       "      <td>314</td>\n",
       "    </tr>\n",
       "  </tbody>\n",
       "</table>\n",
       "</div>"
      ],
      "text/plain": [
       "conv_to_pay     0    1\n",
       "grp                   \n",
       "A            1460   78\n",
       "B            6489  314"
      ]
     },
     "execution_count": 23,
     "metadata": {},
     "output_type": "execute_result"
    }
   ],
   "source": [
    "pd.crosstab(users_logs.grp, users_logs.conv_to_pay)"
   ]
  },
  {
   "cell_type": "markdown",
   "metadata": {},
   "source": [
    "Рассчитаем конверсию в оплату в группах."
   ]
  },
  {
   "cell_type": "code",
   "execution_count": 24,
   "metadata": {
    "scrolled": true
   },
   "outputs": [
    {
     "name": "stdout",
     "output_type": "stream",
     "text": [
      "Конверсия в оплату группы А: 5.07 %\n",
      "Конверсия в оплату группы B: 4.62 %\n"
     ]
    }
   ],
   "source": [
    "CR_A = round(users_A.conv_to_pay.mean() * 100, 2)\n",
    "CR_B = round(users_B.conv_to_pay.mean() * 100, 2)\n",
    "print('Конверсия в оплату группы А:', CR_A, '%')\n",
    "print('Конверсия в оплату группы B:', CR_B, '%')"
   ]
  },
  {
   "cell_type": "markdown",
   "metadata": {},
   "source": [
    "#### Как мы видим, конверсия в тестовой группе не только не выросла, но даже упала примерно на 0,4 п.п.  \n",
    "Проверим статистическую значимость такого изменения."
   ]
  },
  {
   "cell_type": "markdown",
   "metadata": {},
   "source": [
    "Для анализа взаимосвязи двух категориальных переменных (группы пользователей и их конверсии в оплату) подходит **тест Хи-квадрат**, поскольку рассматриваемые события независимые и их количества достаточно для данного анализа (см. табл. сопряженности выше)."
   ]
  },
  {
   "cell_type": "markdown",
   "metadata": {},
   "source": [
    "Сформулируем следующие **статистические гипотезы** для проведения теста Хи-квадрат применительно к первой метрике.\n",
    "\n",
    "H(0): между группой пользователя и его конверсией в оплату взаимосвязи нет.  \n",
    "H(1): между группой пользователя и его конверсией в оплату есть взаимосвязь.\n",
    "\n",
    "Критический уровень значимости для всех тестов примем классический, равным 0.05."
   ]
  },
  {
   "cell_type": "markdown",
   "metadata": {},
   "source": [
    "Выведем p-значение, расчитанное в ходе теста Хи-квадрат."
   ]
  },
  {
   "cell_type": "code",
   "execution_count": 25,
   "metadata": {},
   "outputs": [
    {
     "data": {
      "text/plain": [
       "0.48625240457231045"
      ]
     },
     "execution_count": 25,
     "metadata": {},
     "output_type": "execute_result"
    }
   ],
   "source": [
    "stat, p, dof, expected = ss.chi2_contingency(pd.crosstab(users_logs.grp, users_logs.conv_to_pay))\n",
    "p"
   ]
  },
  {
   "cell_type": "markdown",
   "metadata": {},
   "source": [
    "Поскольку p-значение значительно выше порога значимости, мы **не можем отклонить гипотезу H(0)**.\n",
    "\n",
    "Следовательно, по результатам данного эксперимента нельзя сказать, что внедрение новой механики оплаты услуг на сайте как-то значимо повлияло на конверсию пользователя в оплату наших услуг.\n",
    "\n",
    "#### Таким образом, общая гипотеза №1 в рамках данного теста не подтверждается."
   ]
  },
  {
   "cell_type": "markdown",
   "metadata": {},
   "source": [
    "### 2. Средняя сумма оплаты (ARPU, ARPPU)"
   ]
  },
  {
   "cell_type": "markdown",
   "metadata": {},
   "source": [
    "Посмотрим, как распределены оплаты **всех** пользователей."
   ]
  },
  {
   "cell_type": "code",
   "execution_count": 26,
   "metadata": {
    "scrolled": true
   },
   "outputs": [
    {
     "data": {
      "text/plain": [
       "<matplotlib.axes._subplots.AxesSubplot at 0x7fe7bb44d748>"
      ]
     },
     "execution_count": 26,
     "metadata": {},
     "output_type": "execute_result"
    },
    {
     "data": {
      "image/png": "[encoded data removed]",
      "text/plain": [
       "<Figure size 432x288 with 1 Axes>"
      ]
     },
     "metadata": {
      "needs_background": "light"
     },
     "output_type": "display_data"
    }
   ],
   "source": [
    "sns.histplot(data=users_logs, x='rev', hue='grp')"
   ]
  },
  {
   "cell_type": "markdown",
   "metadata": {},
   "source": [
    "Превалирующее количество - ожидаемо, нулевые оплаты."
   ]
  },
  {
   "cell_type": "code",
   "execution_count": 27,
   "metadata": {},
   "outputs": [
    {
     "data": {
      "text/plain": [
       "0.0      7949\n",
       "199.0      32\n",
       "290.0      70\n",
       "398.0       7\n",
       "489.0       3\n",
       "Name: rev, dtype: int64"
      ]
     },
     "execution_count": 27,
     "metadata": {},
     "output_type": "execute_result"
    }
   ],
   "source": [
    "users_logs.rev.value_counts().sort_index().head()"
   ]
  },
  {
   "cell_type": "markdown",
   "metadata": {},
   "source": [
    "Минимальная ненулевая сумма оплаты - 199 д.е."
   ]
  },
  {
   "cell_type": "code",
   "execution_count": 28,
   "metadata": {},
   "outputs": [
    {
     "name": "stdout",
     "output_type": "stream",
     "text": [
      "средний размер оплаты (ARPU) в группе А: 47.35\n",
      "средний размер оплаты (ARPU) в группе В: 58.06\n"
     ]
    }
   ],
   "source": [
    "print('средний размер оплаты (ARPU) в группе А:', round(users_A.rev.mean(), 2))\n",
    "print('средний размер оплаты (ARPU) в группе В:', round(users_B.rev.mean(), 2))"
   ]
  },
  {
   "cell_type": "markdown",
   "metadata": {},
   "source": [
    "Как видим из этих вычислений и таблицы сопряженности в прошлом шаге, нулевых оплат значительно больше, из-за чего средний доход с пользователя (ARPU) неадекватно отражает данные для дальнейшего анализа изменения в средних (среднее в 47-58 д.е. сильно меньше минимально возможного чека), поэтому целесообразно исследовать изменение размера оплаты только среди тех пользователей, кто хоть сколько-нибудь заплатил, то есть ARPPU."
   ]
  },
  {
   "cell_type": "markdown",
   "metadata": {},
   "source": [
    "Посмотрим распределение размера оплат у **платящих** пользователей."
   ]
  },
  {
   "cell_type": "code",
   "execution_count": 29,
   "metadata": {},
   "outputs": [
    {
     "data": {
      "text/plain": [
       "<matplotlib.axes._subplots.AxesSubplot at 0x7fe7bb302f28>"
      ]
     },
     "execution_count": 29,
     "metadata": {},
     "output_type": "execute_result"
    },
    {
     "data": {
      "image/png": "[encoded data removed]",
      "text/plain": [
       "<Figure size 432x288 with 1 Axes>"
      ]
     },
     "metadata": {
      "needs_background": "light"
     },
     "output_type": "display_data"
    }
   ],
   "source": [
    "sns.histplot(data=users_logs[(users_logs.rev > 0)], x='rev', hue='grp')"
   ]
  },
  {
   "cell_type": "code",
   "execution_count": 30,
   "metadata": {
    "scrolled": true
   },
   "outputs": [
    {
     "name": "stdout",
     "output_type": "stream",
     "text": [
      "средний размер оплаты (ARPPU) в группе А: 933.59\n",
      "средний размер оплаты (ARPPU) в группе В: 1257.88\n"
     ]
    }
   ],
   "source": [
    "print('средний размер оплаты (ARPPU) в группе А:', round(users_A[users_A.rev > 0].rev.mean(), 2))\n",
    "print('средний размер оплаты (ARPPU) в группе В:', round(users_B[users_B.rev > 0].rev.mean(), 2))"
   ]
  },
  {
   "cell_type": "markdown",
   "metadata": {},
   "source": [
    "Как видим, распределение оплат уже не такое скошенное и уплатящих пользователей обеих групп средние оплаты адекватнее отражают данные.\n",
    "#### Более того, по сравнению с контрольной группой, в тестовой группе заметен рост ARPPU (около +324 д.е.) и явный пик на значении чека около 2000 д.е."
   ]
  },
  {
   "cell_type": "code",
   "execution_count": 31,
   "metadata": {
    "scrolled": true
   },
   "outputs": [
    {
     "data": {
      "text/plain": [
       "<matplotlib.axes._subplots.AxesSubplot at 0x7fe7badebef0>"
      ]
     },
     "execution_count": 31,
     "metadata": {},
     "output_type": "execute_result"
    },
    {
     "data": {
      "image/png": "[encoded data removed]",
      "text/plain": [
       "<Figure size 432x288 with 1 Axes>"
      ]
     },
     "metadata": {
      "needs_background": "light"
     },
     "output_type": "display_data"
    }
   ],
   "source": [
    "sns.boxplot(data=users_logs[users_logs.rev > 0], x='grp', y='rev')"
   ]
  },
  {
   "cell_type": "markdown",
   "metadata": {},
   "source": [
    "#### Также видим, что медианное значение размера оплаты в тестовой группе также подросло и разброс значений увеличился."
   ]
  },
  {
   "cell_type": "markdown",
   "metadata": {},
   "source": [
    "Для проверки изменения среднего значения непрерывной величины (суммы оплаты) воспользуемся классическим **двухвыборочным t-тестом**."
   ]
  },
  {
   "cell_type": "code",
   "execution_count": 32,
   "metadata": {},
   "outputs": [
    {
     "data": {
      "text/plain": [
       "grp\n",
       "A     78\n",
       "B    314\n",
       "dtype: int64"
      ]
     },
     "execution_count": 32,
     "metadata": {},
     "output_type": "execute_result"
    }
   ],
   "source": [
    "users_logs[(users_logs.rev > 0)].groupby('grp').size()"
   ]
  },
  {
   "cell_type": "markdown",
   "metadata": {},
   "source": [
    "Число наблюдений в группах достаточное (значительно больше 30), средние адекватно отражают данные, явные выбросы отсутствуют - проверкой распределений на нормальность можно пренебречь."
   ]
  },
  {
   "cell_type": "code",
   "execution_count": 33,
   "metadata": {},
   "outputs": [
    {
     "data": {
      "text/plain": [
       "LeveneResult(statistic=3.075681699981606, pvalue=0.08025675761347022)"
      ]
     },
     "execution_count": 33,
     "metadata": {},
     "output_type": "execute_result"
    }
   ],
   "source": [
    "ss.levene(users_A[(users_A.rev > 0)].rev,\n",
    "          users_B[(users_B.rev > 0)].rev)"
   ]
  },
  {
   "cell_type": "markdown",
   "metadata": {},
   "source": [
    "Дисперсии в выборках не одинаковы, нужно применять соответствующую поправку при расчете т-критерия (функция pg.ttest() включает в себя эту поправку)."
   ]
  },
  {
   "cell_type": "markdown",
   "metadata": {},
   "source": [
    "Сформулируем следующие **статистические гипотезы** для проведения t-теста применительно ко второй метрике.\n",
    "\n",
    "H(0): средний размер оплат у платящих пользователей в двух группах не различается.  \n",
    "H(1): средний размер оплат у платящих пользователей в двух группах отличается."
   ]
  },
  {
   "cell_type": "code",
   "execution_count": 34,
   "metadata": {},
   "outputs": [
    {
     "data": {
      "text/html": [
       "<div>\n",
       "<style scoped>\n",
       "    .dataframe tbody tr th:only-of-type {\n",
       "        vertical-align: middle;\n",
       "    }\n",
       "\n",
       "    .dataframe tbody tr th {\n",
       "        vertical-align: top;\n",
       "    }\n",
       "\n",
       "    .dataframe thead th {\n",
       "        text-align: right;\n",
       "    }\n",
       "</style>\n",
       "<table border=\"1\" class=\"dataframe\">\n",
       "  <thead>\n",
       "    <tr style=\"text-align: right;\">\n",
       "      <th></th>\n",
       "      <th>T</th>\n",
       "      <th>dof</th>\n",
       "      <th>alternative</th>\n",
       "      <th>p-val</th>\n",
       "      <th>CI95%</th>\n",
       "      <th>cohen-d</th>\n",
       "      <th>BF10</th>\n",
       "      <th>power</th>\n",
       "    </tr>\n",
       "  </thead>\n",
       "  <tbody>\n",
       "    <tr>\n",
       "      <th>T-test</th>\n",
       "      <td>-2.86169</td>\n",
       "      <td>106.981668</td>\n",
       "      <td>two-sided</td>\n",
       "      <td>0.00507</td>\n",
       "      <td>[-548.94, -99.64]</td>\n",
       "      <td>0.39646</td>\n",
       "      <td>6.536</td>\n",
       "      <td>0.878211</td>\n",
       "    </tr>\n",
       "  </tbody>\n",
       "</table>\n",
       "</div>"
      ],
      "text/plain": [
       "              T         dof alternative    p-val              CI95%  cohen-d  \\\n",
       "T-test -2.86169  106.981668   two-sided  0.00507  [-548.94, -99.64]  0.39646   \n",
       "\n",
       "         BF10     power  \n",
       "T-test  6.536  0.878211  "
      ]
     },
     "execution_count": 34,
     "metadata": {},
     "output_type": "execute_result"
    }
   ],
   "source": [
    "pg.ttest(users_A[(users_A.rev > 0)].rev,\n",
    "          users_B[(users_B.rev > 0)].rev)"
   ]
  },
  {
   "cell_type": "markdown",
   "metadata": {},
   "source": [
    "Как видим, p-значение меньше порога значимости, что позволяет нам **отвергнуть гипотезу H(0)**.\n",
    "\n",
    "Так, в данном эксперименте средний размер оплаты у пользователей с новым и старым механизмом оплаты статистически значимо отличается. Причем с 95% вероятностью в тестовой группе средний чек будет выше, чем в контрольной, на 100 - 549 д.е., или на 324 д.е. в среднем. Следовательно, изменение в +200 д.е. из гипотезы №2 входит в данный доверительный интервал.\n",
    "\n",
    "#### Следовательно, общая гипотеза №2 подтверждается."
   ]
  },
  {
   "cell_type": "markdown",
   "metadata": {},
   "source": [
    "## Выводы"
   ]
  },
  {
   "cell_type": "markdown",
   "metadata": {},
   "source": [
    "Ввиду того что исходная гипотеза исследования нам не известна, выводы по результатам эксперимента могут быть **разные**, в зависимости от проверяемой гипотезы.\n",
    "\n",
    "1. Если гипотезой АВ-теста было предположение о том, что *внедрение нового механизма оплаты поможет повысить конверсию в платящих пользователей на 10%*, то по результатам данного эксперимента она **не подтверждается** - сложно принять решение о запуске новой механики на всех пользователей. Проанализировав изменение конверсии в оплату в двух группах, мы сделали вывод о ее снижении, которое, однако, не оказалось статзначимо, т.е. значимого ухудшения в конверсии тоже не произошло.  \n",
    "Вероятно, имеющихся данных пока недостаточно, чтобы достоверно понимать влияние механики оплаты на конверсию в оплату. Необходимы дополнительные исследования, возможно, с большим объемом информации о пользователях, чтобы детальнее изучать их поведение в динамике, на разных этапах погружения в продукт и т.д.  \n",
    "2. Если гипотезой АВ-теста было предположение о том, что *внедрение нового механизма оплаты поможет повысить ARPPU на 200 д.е.*, то по результатам данного эксперимента она **подтверждается**, и новый механизм оплаты **можно запускать на всех пользователей**. Учитывая тем более вывод выше о том, что значимого ухудшения конверсии в оплату с нововведением также не произошло.\n",
    "3. Наконец, можно предположить, что исходная гипотеза АВ-теста и вовсе предполагала *как не ухудшение конверсии, так и рост средней выручки с клиента с новой механикой оплаты*. В таком случае, нововведение **стоит запускать** на всех пользователей по причинам, изложенным выше."
   ]
  },
  {
   "cell_type": "markdown",
   "metadata": {},
   "source": [
    "# 2. SQL"
   ]
  },
  {
   "cell_type": "markdown",
   "metadata": {},
   "source": [
    "## 2.1 Очень усердные ученики\n",
    "## Условие\n",
    "\n",
    "Образовательные курсы состоят из различных уроков, каждый из которых состоит из нескольких маленьких заданий. Каждое такое маленькое задание называется \"горошиной\".\n",
    "\n",
    "Назовём очень усердным учеником того пользователя, который хотя бы раз за текущий месяц правильно решил 20 горошин.\n",
    "\n",
    "Необходимо написать *оптимальный запрос*, который даст информацию о количестве очень усердных студентов."
   ]
  },
  {
   "cell_type": "markdown",
   "metadata": {},
   "source": [
    "## Решение"
   ]
  },
  {
   "cell_type": "code",
   "execution_count": 38,
   "metadata": {},
   "outputs": [],
   "source": [
    "# создаем подключение к СУБД\n",
    "connection_default = {'host': 'https://clickhouse.lab.karpov.courses',\n",
    "                      'database':'default',\n",
    "                      'user':'student', \n",
    "                      'password':'dpo_python_2020'}"
   ]
  },
  {
   "cell_type": "code",
   "execution_count": 40,
   "metadata": {},
   "outputs": [
    {
     "name": "stdout",
     "output_type": "stream",
     "text": [
      "Количество очень усердных учеников за последний месяц составляет 136 чел.\n"
     ]
    },
    {
     "data": {
      "text/html": [
       "<div>\n",
       "<style scoped>\n",
       "    .dataframe tbody tr th:only-of-type {\n",
       "        vertical-align: middle;\n",
       "    }\n",
       "\n",
       "    .dataframe tbody tr th {\n",
       "        vertical-align: top;\n",
       "    }\n",
       "\n",
       "    .dataframe thead th {\n",
       "        text-align: right;\n",
       "    }\n",
       "</style>\n",
       "<table border=\"1\" class=\"dataframe\">\n",
       "  <thead>\n",
       "    <tr style=\"text-align: right;\">\n",
       "      <th></th>\n",
       "      <th>num_of_very_act_studs</th>\n",
       "    </tr>\n",
       "  </thead>\n",
       "  <tbody>\n",
       "    <tr>\n",
       "      <th>0</th>\n",
       "      <td>136</td>\n",
       "    </tr>\n",
       "  </tbody>\n",
       "</table>\n",
       "</div>"
      ],
      "text/plain": [
       "   num_of_very_act_studs\n",
       "0                    136"
      ]
     },
     "execution_count": 40,
     "metadata": {},
     "output_type": "execute_result"
    }
   ],
   "source": [
    "# оптимальный запрос для вывода количества очень усердных учеников\n",
    "q1 = '''\n",
    "select \n",
    "    count(st_id) as num_of_very_act_studs\n",
    "from\n",
    "    (\n",
    "    select \n",
    "        toStartOfMonth(timest) as month_,\n",
    "        st_id\n",
    "    from\n",
    "        peas\n",
    "    where\n",
    "        correct = 1\n",
    "    group by\n",
    "        month_, \n",
    "        st_id\n",
    "    having \n",
    "            month_ = max(month_)\n",
    "        and count() >= 20\n",
    "    )\n",
    "'''\n",
    "q1_result = ph.read_clickhouse(query=q1, connection=connection_default)\n",
    "print(f'Количество очень усердных учеников за последний месяц составляет {q1_result.iloc[0,0]} чел.')\n",
    "q1_result"
   ]
  },
  {
   "cell_type": "markdown",
   "metadata": {},
   "source": [
    "## 2.2 Оптимизация воронки\n",
    "## Условие\n",
    "\n",
    "Образовательная платформа предлагает пройти студентам курсы по модели trial: студент может решить бесплатно лишь 30 горошин в день. Для неограниченного количества заданий в определенной дисциплине студенту необходимо приобрести полный доступ. Команда провела эксперимент, где был протестирован новый экран оплаты.\n",
    "\n",
    "Необходимо *в одном запросе* выгрузить следующую информацию о группах пользователей:\n",
    "\n",
    "- ARPU \n",
    "- ARPAU \n",
    "- CR в покупку \n",
    "- СR активного пользователя в покупку \n",
    "- CR пользователя из активности по математике в покупку курса по математике\n",
    "\n",
    "*Активным считается пользователь, за все время решивший больше 10 задач правильно в любых дисциплинах.  \n",
    "Активным по математике считается пользователь, за все время решивший 2 или больше задач правильно по математике.*"
   ]
  },
  {
   "cell_type": "markdown",
   "metadata": {},
   "source": [
    "## Решение"
   ]
  },
  {
   "cell_type": "code",
   "execution_count": 41,
   "metadata": {
    "scrolled": true
   },
   "outputs": [
    {
     "data": {
      "text/html": [
       "<div>\n",
       "<style scoped>\n",
       "    .dataframe tbody tr th:only-of-type {\n",
       "        vertical-align: middle;\n",
       "    }\n",
       "\n",
       "    .dataframe tbody tr th {\n",
       "        vertical-align: top;\n",
       "    }\n",
       "\n",
       "    .dataframe thead th {\n",
       "        text-align: right;\n",
       "    }\n",
       "</style>\n",
       "<table border=\"1\" class=\"dataframe\">\n",
       "  <thead>\n",
       "    <tr style=\"text-align: right;\">\n",
       "      <th></th>\n",
       "      <th>test_group</th>\n",
       "      <th>ARPU</th>\n",
       "      <th>ARPAU</th>\n",
       "      <th>CR_to_order</th>\n",
       "      <th>CR_active_user_to_order</th>\n",
       "      <th>CR_math_active_user_to_order</th>\n",
       "    </tr>\n",
       "  </thead>\n",
       "  <tbody>\n",
       "    <tr>\n",
       "      <th>0</th>\n",
       "      <td>control</td>\n",
       "      <td>4540.98</td>\n",
       "      <td>10393.70</td>\n",
       "      <td>4.92</td>\n",
       "      <td>11.02</td>\n",
       "      <td>6.38</td>\n",
       "    </tr>\n",
       "    <tr>\n",
       "      <th>1</th>\n",
       "      <td>pilot</td>\n",
       "      <td>11508.47</td>\n",
       "      <td>29739.58</td>\n",
       "      <td>10.85</td>\n",
       "      <td>26.04</td>\n",
       "      <td>10.00</td>\n",
       "    </tr>\n",
       "  </tbody>\n",
       "</table>\n",
       "</div>"
      ],
      "text/plain": [
       "  test_group      ARPU     ARPAU  CR_to_order  CR_active_user_to_order  \\\n",
       "0    control   4540.98  10393.70         4.92                    11.02   \n",
       "1      pilot  11508.47  29739.58        10.85                    26.04   \n",
       "\n",
       "   CR_math_active_user_to_order  \n",
       "0                          6.38  \n",
       "1                         10.00  "
      ]
     },
     "execution_count": 41,
     "metadata": {},
     "output_type": "execute_result"
    }
   ],
   "source": [
    "# запрос для вывода метрик по группам пользователей\n",
    "q2 = '''\n",
    "with\n",
    "    all_users_sales as (\n",
    "        select\n",
    "            users.st_id, \n",
    "            test_grp, \n",
    "            money, \n",
    "            subject, \n",
    "            active, \n",
    "            math_active,\n",
    "            case\n",
    "            when money > 0 then 1\n",
    "            else 0\n",
    "            end as ordered\n",
    "        from\n",
    "            final_project_check as sales\n",
    "        right join\n",
    "            (SELECT\n",
    "                st_id,\n",
    "                test_grp,\n",
    "                case\n",
    "                    when st_id in (\n",
    "                        select st_id\n",
    "                        from peas\n",
    "                        where correct = 1\n",
    "                        group by st_id\n",
    "                        having count() > 10\n",
    "                        ) then 1\n",
    "                    else 0\n",
    "                    end as active,\n",
    "                case\n",
    "                    when st_id in (\n",
    "                        select st_id\n",
    "                        from peas\n",
    "                        where correct = 1\n",
    "                            and subject = 'Math'\n",
    "                        group by st_id\n",
    "                        having count() >= 2\n",
    "                        ) then 1\n",
    "                    else 0\n",
    "                    end as math_active\n",
    "            from studs) as users\n",
    "            on sales.st_id = users.st_id\n",
    "    ),\n",
    "    groups as (\n",
    "        select\n",
    "            distinct(test_grp) as test_group\n",
    "        from\n",
    "            all_users_sales\n",
    "    ),\n",
    "    all_sales_for_CR as (\n",
    "        select \n",
    "            DISTINCT users.st_id,\n",
    "            test_grp,\n",
    "            ordered,\n",
    "            active\n",
    "        from all_users_sales\n",
    "    )\n",
    "\n",
    "select \n",
    "    test_group,\n",
    "    ARPU,\n",
    "    ARPAU,\n",
    "    CR_to_order,\n",
    "    CR_active_user_to_order,\n",
    "    CR_math_active_user_to_order\n",
    "from \n",
    "    groups\n",
    "join\n",
    "        (Select \n",
    "            test_grp,\n",
    "            round(sum(money) / count(distinct users.st_id), 2) as ARPU\n",
    "        from \n",
    "            all_users_sales\n",
    "        group by \n",
    "            test_grp) as arpu\n",
    "    on arpu.test_grp = test_group\n",
    "join\n",
    "        (Select \n",
    "            test_grp,\n",
    "            round(sum(money) / count(distinct users.st_id), 2) as ARPAU\n",
    "        from \n",
    "            all_users_sales\n",
    "        where\n",
    "            active = 1\n",
    "        group by \n",
    "            test_grp) as arpau\n",
    "    on arpau.test_grp = test_group\n",
    "join\n",
    "        (Select \n",
    "            test_grp,\n",
    "            round(avg(ordered)*100,2) as CR_to_order\n",
    "        from \n",
    "            all_sales_for_CR\n",
    "        group by \n",
    "            test_grp) as CR_order\n",
    "    on CR_order.test_grp = test_group\n",
    "join\n",
    "        (Select \n",
    "            test_grp,\n",
    "            round(avg(ordered)*100,2) as CR_active_user_to_order\n",
    "        from \n",
    "            all_sales_for_CR\n",
    "        where\n",
    "            active = 1\n",
    "        group by \n",
    "            test_grp) as CR_act_order\n",
    "    on CR_act_order.test_grp = test_group\n",
    "join\n",
    "        (Select \n",
    "            test_grp,\n",
    "            round(avg(ordered)*100,2) as CR_math_active_user_to_order\n",
    "        from \n",
    "            all_users_sales\n",
    "        where\n",
    "                (math_active = 1\n",
    "                and subject = 'Math')\n",
    "            or (math_active = 1\n",
    "                and subject = '')\n",
    "        group by \n",
    "            test_grp) as CR_m_act_order\n",
    "    on CR_m_act_order.test_grp = test_group\n",
    "'''\n",
    "# выведем таблицу с посчитанными метриками\n",
    "q2_result = ph.read_clickhouse(query=q2, connection=connection_default)\n",
    "q2_result"
   ]
  },
  {
   "cell_type": "markdown",
   "metadata": {},
   "source": [
    "Как мы видим, все показатели значителльно **выросли** в тестовой группе, что может говорить о целесообразности введения нового экрана оплаты. Однако, для более обоснованного принятия решения в дальнейшем необходимо проверить статистическую значимость данных изменений."
   ]
  },
  {
   "cell_type": "markdown",
   "metadata": {},
   "source": [
    "# 3. Автоматизация с помощью собственных python-функций"
   ]
  },
  {
   "cell_type": "markdown",
   "metadata": {},
   "source": [
    "## Задача №1\n",
    "Реализуйте функцию, которая будет автоматически подгружать информацию из дополнительного файла groups_add.csv (заголовки могут отличаться) и на основании дополнительных параметров пересчитывать метрики."
   ]
  },
  {
   "cell_type": "code",
   "execution_count": 14,
   "metadata": {},
   "outputs": [],
   "source": [
    "# передаем путь к файлам с которыми будем работать\n",
    "groups = read_yadisk_csv('https://disk.yandex.ru/d/UhyYx41rTt3clQ', ';')\n",
    "active_studs = read_yadisk_csv('https://disk.yandex.ru/d/Tbs44Bm6H_FwFQ', ',')\n",
    "checks = read_yadisk_csv('https://disk.yandex.ru/d/pH1q-VqcxXjsVA', ';')\n",
    "\n",
    "# путь к файлу с пользователями, которых нужно добавить в датасет\n",
    "groups_add = read_yadisk_csv('https://disk.yandex.ru/d/5Kxrz02m3IBUwQ', ',')"
   ]
  },
  {
   "cell_type": "code",
   "execution_count": 37,
   "metadata": {},
   "outputs": [],
   "source": [
    "# создаем функцию\n",
    "def add_groups(old_file, new_file):\n",
    "    '''\n",
    "    Функция добавляет данные о \"новых\" пользователях (id, группа) в датасет и на основании этого\n",
    "    выводит обновленные метрики (средняя оплата, конверсия).\n",
    "    \n",
    "    Принимает в качестве аргумента первый датафрейм с пользователями (old_file) \n",
    "    и датафрейм с пользователями, которых нужно добавить в датасет (new_file).\n",
    "    '''\n",
    "    df_add = new_file.loc[~new_file.iloc[:, 0].isin(old_file.iloc[:, 0])]\n",
    "    id_col_common_name = old_file.columns[0] # приведем везде название колонки с id к одному виду\n",
    "    df_add.columns = old_file.columns\n",
    "    active_studs.rename(columns={active_studs.columns[0]:id_col_common_name}, inplace=True, copy=False)\n",
    "    checks.rename(columns={checks.columns[0]:id_col_common_name}, inplace=True, copy=False)\n",
    "    groups_all = pd.concat([old_file, df_add], ignore_index=True)\n",
    "    groups_all['grp'] = groups_all.grp.astype(str)\n",
    "    active_studs['active'] = 1\n",
    "    users_logs = groups_all.merge(active_studs, on=id_col_common_name, how='left')\n",
    "    users_logs = users_logs.merge(checks, on=id_col_common_name, how='left').fillna(0)\n",
    "    users_logs['conv_to_pay'] = np.where(users_logs.rev != 0, 1, 0)\n",
    "    users_logs = users_logs.loc[users_logs.active == 1]\n",
    "    users_A = users_logs[users_logs.grp == 'A']\n",
    "    users_B = users_logs[users_logs.grp == 'B']\n",
    "    CR_A = round(users_A.conv_to_pay.mean() * 100, 2)\n",
    "    CR_B = round(users_B.conv_to_pay.mean() * 100, 2)\n",
    "    if new_file.iloc[:, 0].isin(old_file.iloc[:, 0]).sum() == new_file.shape[0]:\n",
    "        print(f'Все добавляемые {new_file.shape[0]} пользователей уже есть в первой таблице, состоящей из {old_file.shape[0]} строк.')\n",
    "        print('\\nМетрики по данным пользователям:')\n",
    "    else:\n",
    "        print(f'В датасет успешно добавлены {df_add.shape[0]} новых пользователей. Итого {groups_all.shape[0]} пользователей.')\n",
    "        print('\\nМетрики по обновленным данным:')\n",
    "    print('конверсия в оплату среди всех пользователей (CR):\\n- группа А:', CR_A, '%', '\\n- группа B:', CR_B, '%')\n",
    "    print('средний размер оплаты среди всех пользователей (ARPU):\\n- группа А:', round(users_A.rev.mean(), 2), '\\n- группа B:', round(users_B.rev.mean(), 2))\n",
    "    print('средний размер оплаты среди платящих пользователей (ARPPU):\\n- группа А:', round(users_A[users_A.rev > 0].rev.mean(), 2), '\\n- группа B:', round(users_B[users_B.rev > 0].rev.mean(), 2))"
   ]
  },
  {
   "cell_type": "code",
   "execution_count": 38,
   "metadata": {
    "scrolled": true
   },
   "outputs": [
    {
     "name": "stdout",
     "output_type": "stream",
     "text": [
      "В датасет успешно добавлены 92 новых пользователей. Итого 74576 пользователей.\n",
      "\n",
      "Метрики по обновленным данным:\n",
      "конверсия в оплату среди всех пользователей (CR):\n",
      "- группа А: 5.07 % \n",
      "- группа B: 4.62 %\n",
      "средний размер оплаты среди всех пользователей (ARPU):\n",
      "- группа А: 47.35 \n",
      "- группа B: 58.06\n",
      "средний размер оплаты среди платящих пользователей (ARPPU):\n",
      "- группа А: 933.59 \n",
      "- группа B: 1257.88\n"
     ]
    }
   ],
   "source": [
    "# вызываем функцию\n",
    "add_groups(groups, groups_add)"
   ]
  },
  {
   "cell_type": "markdown",
   "metadata": {},
   "source": [
    "## Задача №2\n",
    "Реализуйте функцию, которая будет строить графики по получаемым метрикам."
   ]
  },
  {
   "cell_type": "code",
   "execution_count": 39,
   "metadata": {
    "scrolled": true
   },
   "outputs": [],
   "source": [
    "# создаем функцию\n",
    "def add_users_and_make_plots(old_file, new_file):\n",
    "    '''\n",
    "    Функция добавляет данные о \"новых\" пользователях (id, группа) в датасет и на основании этого\n",
    "    выводит графики по получаемым метрикам (средняя оплата, конверсия).\n",
    "    \n",
    "    Принимает в качестве аргумента первый датафрейм с пользователями (old_file) \n",
    "    и датафрейм с пользователями, которых нужно добавить в датасет (new_file).\n",
    "    '''\n",
    "    df_add = new_file.loc[~new_file.iloc[:, 0].isin(old_file.iloc[:, 0])]\n",
    "    id_col_common_name = old_file.columns[0] # приведем везде название колонки с id к одному виду\n",
    "    df_add.columns = old_file.columns\n",
    "    active_studs.rename(columns={active_studs.columns[0]:id_col_common_name}, inplace=True, copy=False)\n",
    "    checks.rename(columns={checks.columns[0]:id_col_common_name}, inplace=True, copy=False)\n",
    "    groups_all = pd.concat([old_file, df_add], ignore_index=True)\n",
    "    groups_all['grp'] = groups_all.grp.astype(str)\n",
    "    active_studs['active'] = 1\n",
    "    users_logs = groups_all.merge(active_studs, on=id_col_common_name, how='left')\n",
    "    users_logs = users_logs.merge(checks, on=id_col_common_name, how='left').fillna(0)\n",
    "    users_logs['conv_to_pay'] = np.where(users_logs.rev != 0, 1, 0)\n",
    "    users_logs = users_logs.loc[users_logs.active == 1]\n",
    "    users_A = users_logs[users_logs.grp == 'A']\n",
    "    users_B = users_logs[users_logs.grp == 'B']\n",
    "    CR_A = round(users_A.conv_to_pay.mean() * 100, 2)\n",
    "    CR_B = round(users_B.conv_to_pay.mean() * 100, 2)    \n",
    "    if new_file.iloc[:, 0].isin(old_file.iloc[:, 0]).sum() == new_file.shape[0]:\n",
    "        print(f'Все добавляемые {new_file.shape[0]} пользователей уже есть в первой таблице, состоящей из {old_file.shape[0]} строк.')\n",
    "    else:\n",
    "        print(f'В датасет успешно добавлены {df_add.shape[0]} новых пользователей. Итого {groups_all.shape[0]} пользователей.')\n",
    "\n",
    "    fig, ((ax0, ax1), (ax2, ax3)) = plt.subplots(nrows=2, ncols=2, figsize=(12,7))\n",
    "\n",
    "    sns.boxplot(data=users_logs[users_logs.rev > 0], x='grp', y='rev', order=['A','B'],ax=ax0)\n",
    "    ax0.set_ylabel('')\n",
    "    ax0.set_xlabel('')\n",
    "    ax0.set_title('Размер оплаты у платящих пользователей')\n",
    "\n",
    "    sns.barplot(data=users_logs, y='conv_to_pay', x='grp', order=['A','B'], ax=ax1)\n",
    "    ax1.set_yticklabels(['{:.2%}'.format(y) for y in ax1.get_yticks()])\n",
    "    ax1.set_ylabel('')\n",
    "    ax1.set_xlabel('')\n",
    "    ax1.set_title('Конверсия в оплату среди всех пользователей')\n",
    "\n",
    "    sns.histplot(data=users_logs, x='rev', hue='grp', hue_order=['A','B'], ax=ax2)\n",
    "    ax2.set_ylabel('')\n",
    "    ax2.set_xlabel('сумма оплаты')\n",
    "    ax2.set_title('Распределение размера оплат среди всех пользователей')\n",
    "\n",
    "    sns.histplot(data=users_logs[(users_logs.rev > 0)], x='rev', hue='grp', hue_order=['A','B'], ax=ax3)\n",
    "    ax3.set_ylabel('')\n",
    "    ax3.set_xlabel('сумма оплаты')\n",
    "    ax3.set_title('Распределение размера оплат среди платящих пользователей')\n",
    "\n",
    "    fig.tight_layout()\n",
    "    plt.show()"
   ]
  },
  {
   "cell_type": "code",
   "execution_count": 40,
   "metadata": {},
   "outputs": [
    {
     "name": "stdout",
     "output_type": "stream",
     "text": [
      "В датасет успешно добавлены 92 новых пользователей. Итого 74576 пользователей.\n"
     ]
    },
    {
     "data": {
      "image/png": "[encoded data removed]",
      "text/plain": [
       "<Figure size 864x504 with 4 Axes>"
      ]
     },
     "metadata": {
      "needs_background": "light"
     },
     "output_type": "display_data"
    }
   ],
   "source": [
    "# вызываем функцию\n",
    "add_users_and_make_plots(groups, groups_add)"
   ]
  }
 ],
 "metadata": {
  "kernelspec": {
   "display_name": "Python 3 (ipykernel)",
   "language": "python",
   "name": "python3"
  },
  "language_info": {
   "codemirror_mode": {
    "name": "ipython",
    "version": 3
   },
   "file_extension": ".py",
   "mimetype": "text/x-python",
   "name": "python",
   "nbconvert_exporter": "python",
   "pygments_lexer": "ipython3",
   "version": "3.11.7"
  }
 },
 "nbformat": 4,
 "nbformat_minor": 4
}
